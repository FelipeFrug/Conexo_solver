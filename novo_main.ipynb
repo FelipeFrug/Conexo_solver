{
 "cells": [
  {
   "cell_type": "code",
   "execution_count": null,
   "id": "47e0a53a",
   "metadata": {},
   "outputs": [],
   "source": [
    "import torch\n",
    "import numpy as np\n",
    "from transformers import BertTokenizer, BertModel\n",
    "from sklearn.metrics.pairwise import cosine_similarity\n",
    "import random\n",
    "from selenium import webdriver\n",
    "from selenium.webdriver.common.by import By\n",
    "from selenium.webdriver.common.keys import Keys\n",
    "from selenium.webdriver.chrome.service import Service\n",
    "from webdriver_manager.chrome import ChromeDriverManager\n",
    "import time\n",
    "\n",
    "from functions import enviar_chute_site\n"
   ]
  },
  {
   "cell_type": "code",
   "execution_count": 12,
   "id": "612839d0",
   "metadata": {},
   "outputs": [],
   "source": [
    "# Inicializa navegador\n",
    "driver = webdriver.Chrome(service=Service(ChromeDriverManager().install()))\n",
    "driver.get(\"https://contexto.me/en/\")\n",
    "\n",
    "\n",
    "memory = {}"
   ]
  },
  {
   "cell_type": "code",
   "execution_count": 13,
   "id": "166a185a",
   "metadata": {},
   "outputs": [],
   "source": [
    "# Palavras genéricas para abrir sentidos semânticos\n",
    "temas_exploratorios = [\n",
    "    \"object\", \"place\", \"person\", \"animal\", \"emotion\",\n",
    "    \"food\", \"vehicle\", \"technology\", \"family\", \"music\",\n",
    "    \"clothing\", \"tool\", \"plant\", \"profession\", \"color\"\n",
    "]\n",
    "temas_usados = set()"
   ]
  },
  {
   "cell_type": "code",
   "execution_count": null,
   "id": "2148e77d",
   "metadata": {},
   "outputs": [],
   "source": [
    "\n",
    "\n",
    "# def loop_automatico():\n",
    "#     reenviar_chutes_para_interface()\n",
    "\n",
    "#     while True:\n",
    "#         proxima = sugerir_proximo()\n",
    "#         chute, score = enviar_chute_site(proxima)\n",
    "        \n",
    "#         if score is not None:\n",
    "#             adicionar_chute(chute, score)\n",
    "#         else:\n",
    "#             print(\"⏭️ Ignorando chute inválido ou repetido.\")\n",
    "\n",
    "#         if score == 0:\n",
    "#             print(\"🎉 Palavra secreta encontrada:\", chute)\n",
    "#             break"
   ]
  },
  {
   "cell_type": "code",
   "execution_count": 16,
   "id": "f2fc88f8",
   "metadata": {},
   "outputs": [],
   "source": [
    "palavras_a_testar = [\"place\", \"try\", \"fix\", \"link\"]"
   ]
  },
  {
   "cell_type": "code",
   "execution_count": 17,
   "id": "692d7098",
   "metadata": {},
   "outputs": [
    {
     "name": "stdout",
     "output_type": "stream",
     "text": [
      "⚠️ Palavra já testada: try\n"
     ]
    }
   ],
   "source": [
    "for p in palavras_a_testar:\n",
    "    enviar_chute_site(driver, p)"
   ]
  },
  {
   "cell_type": "code",
   "execution_count": null,
   "id": "72476048",
   "metadata": {},
   "outputs": [],
   "source": []
  }
 ],
 "metadata": {
  "kernelspec": {
   "display_name": "Python 3",
   "language": "python",
   "name": "python3"
  },
  "language_info": {
   "codemirror_mode": {
    "name": "ipython",
    "version": 3
   },
   "file_extension": ".py",
   "mimetype": "text/x-python",
   "name": "python",
   "nbconvert_exporter": "python",
   "pygments_lexer": "ipython3",
   "version": "3.13.3"
  }
 },
 "nbformat": 4,
 "nbformat_minor": 5
}
