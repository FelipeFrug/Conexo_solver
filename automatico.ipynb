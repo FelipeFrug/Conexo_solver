{
 "cells": [
  {
   "cell_type": "code",
   "execution_count": 32,
   "id": "7dee29ce",
   "metadata": {},
   "outputs": [],
   "source": [
    "import pyautogui\n",
    "import webbrowser\n",
    "from bs4 import BeautifulSoup\n",
    "import requests\n",
    "import time\n"
   ]
  },
  {
   "cell_type": "code",
   "execution_count": 45,
   "id": "de314729",
   "metadata": {},
   "outputs": [
    {
     "name": "stdout",
     "output_type": "stream",
     "text": [
      "<!DOCTYPE html>\n",
      "<html data-adblockkey=\"MFwwDQYJKoZIhvcNAQEBBQADSwAwSAJBANDrp2lz7AOmADaN8tA50LsWcjLFyQFcb/P2Txc58oYOeILb3vBw7J6f4pamkAQVSQuqYsKx3YzdUHCvbVZvFUsCAwEAAQ==_i5J3BwXrUkvUBbtkpSo1teDQYxpbbYXaLWCpU2d9lhfU9QrgCo9oW84Tcp1N77clfGkC0zrkIB09Lq2qwHvuNQ==\" lang=\"en\" style=\"background: #2B2B2B;\">\n",
      " <head>\n",
      "  <meta charset=\"utf-8\"/>\n",
      "  <meta content=\"width=device-width, initial-scale=1\" name=\"viewport\"/>\n",
      "  <link href=\"data:image/png;base64,iVBORw0KGgoAAAANSUhEUgAAAAEAAAABCAIAAACQd1PeAAAADElEQVQI12P4//8/AAX+Av7czFnnAAAAAElFTkSuQmCC\" rel=\"icon\"/>\n",
      "  <link crossorigin=\"\" href=\"https://www.google.com\" rel=\"preconnect\"/>\n",
      " </head>\n",
      " <body>\n",
      "  <div id=\"target\" style=\"opacity: 0\">\n",
      "  </div>\n",
      "  <script>\n",
      "   window.park = \"eyJ1dWlkIjoiYmM2Y2JhMGUtMzY5Yi00ZTFjLTgxZGEtMjM4YWVjOTJiM2NmIiwicGFnZV90aW1lIjoxNzQ3OTQyMjU5LCJwYWdlX3VybCI6Imh0dHA6Ly93dzI1LmNvbmV4by5tZS9lbi8/c3ViaWQxPTIwMjUwNTIzLTA1MzAtNTkyOC05OTU1LTQ5OWI0Y2I2MjdkMyIsInBhZ2VfbWV0aG9kIjoiR0VUIiwicGFnZV9yZXF1ZXN0Ijp7InN1YmlkMSI6IjIwMjUwNTIzLTA1MzAtNTkyOC05OTU1LTQ5OWI0Y2I2MjdkMyJ9LCJwYWdlX2hlYWRlcnMiOnt9LCJob3N0Ijoid3cyNS5jb25leG8ubWUiLCJpcCI6IjE4Ni4yMzIuNjEuNjMifQo=\";\n",
      "  </script>\n",
      "  <script src=\"/bLqRcWbUm.js\">\n",
      "  </script>\n",
      " </body>\n",
      "</html>\n",
      "\n"
     ]
    }
   ],
   "source": [
    "url = \"https://conexo.me/en/\"\n",
    "\n",
    "response = requests.get(url)\n",
    "\n",
    "if response.status_code == 200:\n",
    "    soup = BeautifulSoup(response.content, 'html.parser')\n",
    "    \n",
    "    # content = soup.find()\n",
    "    # raw_text = content.decode_contents()\n",
    "\n",
    "\n",
    "    print(soup.prettify())\n",
    "else:\n",
    "    print(f\"Failed to retrieve data. Status code: {response.status_code}\")"
   ]
  },
  {
   "cell_type": "code",
   "execution_count": 46,
   "id": "94562e2f",
   "metadata": {},
   "outputs": [
    {
     "name": "stdout",
     "output_type": "stream",
     "text": [
      "<div id=\"target\" style=\"opacity: 0\"></div>\n"
     ]
    }
   ],
   "source": [
    "lista_tentativas = soup.find('div')\n",
    "print(lista_tentativas)"
   ]
  },
  {
   "cell_type": "code",
   "execution_count": 47,
   "id": "3e48d819",
   "metadata": {},
   "outputs": [
    {
     "name": "stdout",
     "output_type": "stream",
     "text": [
      "1920 1080\n"
     ]
    }
   ],
   "source": [
    "screenWidth, screenHeight = pyautogui.size()\n",
    "print(screenWidth, screenHeight)"
   ]
  },
  {
   "cell_type": "code",
   "execution_count": null,
   "id": "9e3077a5",
   "metadata": {},
   "outputs": [],
   "source": [
    "webbrowser.open(\"https://conexo.me/en/\")\n",
    "\n",
    "# time.sleep(3)\n",
    "# pyautogui.click(screenWidth/2, 250)\n",
    "# pyautogui.write('camp', interval=0.01)\n",
    "# pyautogui.press('enter') "
   ]
  },
  {
   "cell_type": "code",
   "execution_count": null,
   "id": "c42ec94e",
   "metadata": {},
   "outputs": [],
   "source": []
  }
 ],
 "metadata": {
  "kernelspec": {
   "display_name": "Python 3",
   "language": "python",
   "name": "python3"
  },
  "language_info": {
   "codemirror_mode": {
    "name": "ipython",
    "version": 3
   },
   "file_extension": ".py",
   "mimetype": "text/x-python",
   "name": "python",
   "nbconvert_exporter": "python",
   "pygments_lexer": "ipython3",
   "version": "3.13.3"
  }
 },
 "nbformat": 4,
 "nbformat_minor": 5
}
